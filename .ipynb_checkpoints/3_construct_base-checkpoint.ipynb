{
 "cells": [
  {
   "cell_type": "code",
   "execution_count": 1,
   "id": "b00300e6-b19c-4669-a0be-263d5ba3a232",
   "metadata": {},
   "outputs": [],
   "source": [
    "import faiss\n",
    "import numpy as np\n",
    "from utils import read_jsonl, fetch_with_retry\n",
    "from sentence_transformers import SentenceTransformer"
   ]
  },
  {
   "cell_type": "code",
   "execution_count": 2,
   "id": "0e0b2834-6fcc-4774-a4a3-fb9eddd590cf",
   "metadata": {},
   "outputs": [],
   "source": [
    "data = read_jsonl(\"../autodl-tmp/data3_2.jsonl\")"
   ]
  },
  {
   "cell_type": "code",
   "execution_count": 10,
   "id": "77a1a179-64a4-407b-ad07-fef0b289c836",
   "metadata": {},
   "outputs": [],
   "source": [
    "class VectorDatabase:\n",
    "    def __init__(self, dimension):\n",
    "        \"\"\"初始化 FAISS 索引\"\"\"\n",
    "        self.dimension = dimension\n",
    "        self.model = SentenceTransformer(\"../all-mpnet-base-v2\", local_files_only=True)\n",
    "        self.index = faiss.IndexFlatL2(dimension)  # 使用 L2 距离索引\n",
    "        self.texts = []  # 存储文本信息\n",
    "\n",
    "    def add_embeddings(self, embeddings, texts):\n",
    "        \"\"\"添加已有的嵌入向量到 FAISS 索引\"\"\"\n",
    "        embeddings = np.array(embeddings, dtype=np.float32)\n",
    "        self.index.add(embeddings)\n",
    "        self.texts.extend(texts)\n",
    "        print(f\"已添加 {len(texts)} 条数据到 FAISS 索引。\")\n",
    "\n",
    "    def search(self, query_embedding, top_k=5):\n",
    "        \"\"\"基于嵌入向量进行相似度搜索\"\"\"\n",
    "        query_embedding = np.array([query_embedding], dtype=np.float32)\n",
    "        distances, indices = self.index.search(query_embedding, top_k)\n",
    "        results = [(self.texts[i], distances[0][j]) for j, i in enumerate(indices[0]) if i != -1]\n",
    "        return results\n",
    "\n",
    "    def generate_prompt(self, query, retrieved_texts):\n",
    "        \"\"\"基于查询与检索的文本，构造提示词\"\"\"\n",
    "        prompt_template = f\"\"\"\n",
    "        你是一名舆情分析专家。请根据以下用户输入的查询，结合相关的舆情信息进行回答，你的主要任务是分析一下该事件是否可能演变为负面舆情事件。\n",
    "\n",
    "        **用户查询**：\n",
    "        {query}\n",
    "\n",
    "        **相关舆情信息**：\n",
    "        {retrieved_texts}\n",
    "\n",
    "        请用简洁准确的语言给出你的分析：\n",
    "        \"\"\"\n",
    "        return prompt_template"
   ]
  },
  {
   "cell_type": "code",
   "execution_count": 11,
   "id": "3eb8b6ab-216c-4838-a24a-a6ec2bceec4d",
   "metadata": {},
   "outputs": [
    {
     "name": "stdout",
     "output_type": "stream",
     "text": [
      "已添加 8983 条数据到 FAISS 索引。\n"
     ]
    }
   ],
   "source": [
    "dimension = len(data[0][\"embeddings\"])\n",
    "\n",
    "vector_db = VectorDatabase(dimension)\n",
    "\n",
    "# 添加已有的 embeddings 和对应文本\n",
    "embeddings = [item[\"embeddings\"] for item in data]\n",
    "texts = [item[\"text\"] for item in data]\n",
    "vector_db.add_embeddings(embeddings, texts)"
   ]
  },
  {
   "cell_type": "code",
   "execution_count": 12,
   "id": "35a782da-7b6a-44a3-b46f-e02c2ad5e988",
   "metadata": {},
   "outputs": [
    {
     "name": "stdout",
     "output_type": "stream",
     "text": [
      "相关文本: 总台记者发现，坠机现场仍有燃油味 (相似度: 0.08274109661579132)\n",
      "相关文本: 冲突因检察官有很多倾向性讯问激怒了被告人 (相似度: 0.2400105595588684)\n",
      "相关文本: 物业称疑有人恶意毒狗，己报警 (相似度: 0.25180700421333313)\n",
      "相关文本: 盗墓有风险，铁窗两行泪 (相似度: 0.3277413845062256)\n",
      "相关文本: 滑倒有风险，疼完两行泪 (相似度: 0.3277413845062256)\n",
      "相关文本: 如果仅仅是完全随机的选择，有可能导致算法收敛很慢 (相似度: 0.3548785150051117)\n",
      "相关文本: 如何看待“炫富挑战”爆红现象“炫富”，在百度百科有这样一段解释：“指炫耀、夸耀财富或富有 (相似度: 0.3656255006790161)\n",
      "相关文本: 因附近没有可燃物，所以没有引发火灾 (相似度: 0.3859977126121521)\n",
      "相关文本: 有研究发现，推特上的舆论发展并稳定形成主流意见的速度非常快，这对于那些能够在早期左右舆论的大型组织非常有利 (相似度: 0.39239734411239624)\n",
      "相关文本: 当前，整体舆情热度有所回落 (相似度: 0.39244943857192993)\n"
     ]
    }
   ],
   "source": [
    "query = \"抖音直播间有什么套路吗\"\n",
    "query_embedding = vector_db.model.encode(query, convert_to_numpy=True)  # 假设查询语句的 embedding\n",
    "results = vector_db.search(query_embedding, top_k=10)\n",
    "\n",
    "for text, score in results:\n",
    "    print(f\"相关文本: {text} (相似度: {score})\")"
   ]
  },
  {
   "cell_type": "code",
   "execution_count": 13,
   "id": "8e358e58-2e0d-4d8c-b01a-9545aacb6078",
   "metadata": {},
   "outputs": [],
   "source": [
    "retrieved_texts = \"\\n\".join([text for text, score in results])"
   ]
  },
  {
   "cell_type": "code",
   "execution_count": 14,
   "id": "5a95c5f4-8fa9-499d-b54a-aa060524700b",
   "metadata": {},
   "outputs": [],
   "source": [
    "final_prompt = vector_db.generate_prompt(query, retrieved_texts)"
   ]
  },
  {
   "cell_type": "code",
   "execution_count": 15,
   "id": "01a95758-06d4-4b75-8a93-1fa12561250a",
   "metadata": {},
   "outputs": [],
   "source": [
    "response = fetch_with_retry(final_prompt)"
   ]
  },
  {
   "cell_type": "code",
   "execution_count": 16,
   "id": "3189da45-af4c-41ad-b464-c63d64f83db7",
   "metadata": {},
   "outputs": [
    {
     "name": "stdout",
     "output_type": "stream",
     "text": [
      "根据现有信息分析，抖音直播间“套路”问题存在演变为负面舆情的潜在风险，但当前暂无直接关联的舆情发酵迹象。判断依据如下：  \n",
      "1. **风险关联性**：直播间常见的诱导消费、虚假宣传等套路天然具备负面舆情属性，与用户财产安全、平台信任度直接相关，敏感度高；  \n",
      "2. **舆情现状**：提供的舆情信息中未提及抖音直播相关负面事件，且整体舆情热度回落，显示短期内暂无叠加风险；  \n",
      "3. **触发条件**：若出现典型案例（如大规模用户投诉、头部主播被曝欺诈），或媒体/KOL集中曝光套路操作手法，可能快速引发舆论扩散。  \n",
      "\n",
      "**结论**：当前暂未形成实际负面舆情，但需警惕该话题的敏感性，建议持续监测直播间消费纠纷类新增信息。\n"
     ]
    }
   ],
   "source": [
    "print(response.choices[0].message.content)"
   ]
  },
  {
   "cell_type": "code",
   "execution_count": null,
   "id": "57a0c973-e811-4502-9a0a-beaa64828179",
   "metadata": {},
   "outputs": [],
   "source": []
  }
 ],
 "metadata": {
  "kernelspec": {
   "display_name": "Python 3 (ipykernel)",
   "language": "python",
   "name": "python3"
  },
  "language_info": {
   "codemirror_mode": {
    "name": "ipython",
    "version": 3
   },
   "file_extension": ".py",
   "mimetype": "text/x-python",
   "name": "python",
   "nbconvert_exporter": "python",
   "pygments_lexer": "ipython3",
   "version": "3.12.3"
  }
 },
 "nbformat": 4,
 "nbformat_minor": 5
}
