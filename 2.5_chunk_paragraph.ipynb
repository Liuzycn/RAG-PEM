{
 "cells": [
  {
   "cell_type": "code",
   "execution_count": 1,
   "id": "437e4c08-66b4-4c45-a35d-64a0ae92165c",
   "metadata": {},
   "outputs": [],
   "source": [
    "import json\n",
    "from utils import read_jsonl\n",
    "from sentence_transformers import SentenceTransformer"
   ]
  },
  {
   "cell_type": "code",
   "execution_count": 2,
   "id": "912910e8-b51f-408c-a201-f38f044ed7fa",
   "metadata": {},
   "outputs": [],
   "source": [
    "outcome = []\n",
    "file_path = \"../autodl-tmp/data3_2.jsonl\""
   ]
  },
  {
   "cell_type": "code",
   "execution_count": 3,
   "id": "4db16b2b-a55f-4424-9436-b59fd70c5f47",
   "metadata": {},
   "outputs": [],
   "source": [
    "#TODO: split the summary content into pieces based on the sentence\n",
    "datas = read_jsonl(\"../autodl-tmp/data2_2.jsonl\")\n",
    "data = [x[\"summary_content\"] for x in datas]\n",
    "for d in data:\n",
    "    sentences = d.split(\"。\")\n",
    "    sentences = [sentence.replace(\"\\n\", \"\").replace(\"\\n\\n\", \"\") for sentence in sentences if sentence.strip()]\n",
    "    outcome.extend(sentences)"
   ]
  },
  {
   "cell_type": "code",
   "execution_count": 4,
   "id": "cec85098-e30c-4167-a00b-24a8a96ce29e",
   "metadata": {},
   "outputs": [],
   "source": [
    "#outcome"
   ]
  },
  {
   "cell_type": "code",
   "execution_count": 5,
   "id": "40a7b971-dde0-49a3-a9c8-a32bdb5f04f3",
   "metadata": {},
   "outputs": [
    {
     "data": {
      "text/plain": [
       "'\\nExample:[\\'【舆情事件总结】一、核心事件：广州一名女大学生反映打车18公里被司机收取581元（车费281元+未系安全带\"罚款\"300元）\\',\\n \\'涉事司机谎称车辆正规，事后乘客报警处理\\',\\n \\'二、调查结果：广州市交通局经4小时监控排查锁定嫌疑车辆（粤AA01XXX），联合公安当日查获司机劳某某，已立案并将依法处罚\\',\\n \\'三、舆情特征：1. 传播高峰：2月24日22时2. 主要平台：社交网络（66%）、视频（15.6%）、新闻客户端（13.3%）3. 情感分布：负面（51.2%）>中性（42.7%）>正面（6.2%）（注：已过滤工具推广、版权声明等无关信息，保留事件核心要素及舆情关键数据）\\',\\n \\'**广西百色2岁男童托育园意外身亡事件舆情总结****核心内容：**  2025年1月3日，广西百色平果市妇幼保健院托育园一名2岁男童午睡后身亡\\',\\n '"
      ]
     },
     "execution_count": 5,
     "metadata": {},
     "output_type": "execute_result"
    }
   ],
   "source": [
    "'''\n",
    "Example:['【舆情事件总结】一、核心事件：广州一名女大学生反映打车18公里被司机收取581元（车费281元+未系安全带\"罚款\"300元）',\n",
    " '涉事司机谎称车辆正规，事后乘客报警处理',\n",
    " '二、调查结果：广州市交通局经4小时监控排查锁定嫌疑车辆（粤AA01XXX），联合公安当日查获司机劳某某，已立案并将依法处罚',\n",
    " '三、舆情特征：1. 传播高峰：2月24日22时2. 主要平台：社交网络（66%）、视频（15.6%）、新闻客户端（13.3%）3. 情感分布：负面（51.2%）>中性（42.7%）>正面（6.2%）（注：已过滤工具推广、版权声明等无关信息，保留事件核心要素及舆情关键数据）',\n",
    " '**广西百色2岁男童托育园意外身亡事件舆情总结****核心内容：**  2025年1月3日，广西百色平果市妇幼保健院托育园一名2岁男童午睡后身亡',\n",
    " '''"
   ]
  },
  {
   "cell_type": "code",
   "execution_count": 6,
   "id": "09dc7f59-d359-4a4f-98d8-830f82229ebb",
   "metadata": {},
   "outputs": [],
   "source": [
    "#TODO: generate the embeddings based on the all-mpnet-base-v2 https://huggingface.co/sentence-transformers/all-mpnet-base-v2\n",
    "model = SentenceTransformer('../all-mpnet-base-v2', local_files_only=True)\n",
    "embeddings = model.encode(outcome)"
   ]
  },
  {
   "cell_type": "code",
   "execution_count": 7,
   "id": "8dc6ad41-e033-42be-b4c6-ad5b128ab186",
   "metadata": {},
   "outputs": [
    {
     "data": {
      "text/plain": [
       "768"
      ]
     },
     "execution_count": 7,
     "metadata": {},
     "output_type": "execute_result"
    }
   ],
   "source": [
    "len(embeddings[0])"
   ]
  },
  {
   "cell_type": "code",
   "execution_count": 8,
   "id": "c9c54268-d4a2-4497-9898-54f1ce78b5e9",
   "metadata": {},
   "outputs": [],
   "source": [
    "#list(embeddings[0])\n",
    "count=0"
   ]
  },
  {
   "cell_type": "code",
   "execution_count": 9,
   "id": "15ec0146-b3d1-4297-a23e-d8f8ee5db2c6",
   "metadata": {},
   "outputs": [],
   "source": [
    "for i, out in enumerate(outcome):\n",
    "    if \"建议补充\" in out:\n",
    "        continue\n",
    "    if \"根据现有\" in out:\n",
    "        continue\n",
    "    dict_sentence = {\"id\":i, \"text\":out, \"embeddings\":embeddings[i].tolist()}\n",
    "    count+=1\n",
    "    with open(file_path, 'a', encoding='utf-8') as f:  \n",
    "        json.dump(dict_sentence, f, ensure_ascii=False)\n",
    "        f.write('\\n')"
   ]
  },
  {
   "cell_type": "code",
   "execution_count": null,
   "id": "86bab8b2-fb30-45b8-a538-1bdfa3b5418e",
   "metadata": {},
   "outputs": [],
   "source": [
    "count"
   ]
  },
  {
   "cell_type": "code",
   "execution_count": 26,
   "id": "ba5474c4-8236-4ee7-9272-fc93cf5ad0da",
   "metadata": {},
   "outputs": [],
   "source": []
  },
  {
   "cell_type": "code",
   "execution_count": 27,
   "id": "49645fcf-11f8-4481-b40b-da1e87d8d08d",
   "metadata": {},
   "outputs": [],
   "source": []
  },
  {
   "cell_type": "code",
   "execution_count": null,
   "id": "e32d567a-2bf1-402e-a33a-82328c1a87f7",
   "metadata": {},
   "outputs": [],
   "source": []
  }
 ],
 "metadata": {
  "kernelspec": {
   "display_name": "Python 3 (ipykernel)",
   "language": "python",
   "name": "python3"
  },
  "language_info": {
   "codemirror_mode": {
    "name": "ipython",
    "version": 3
   },
   "file_extension": ".py",
   "mimetype": "text/x-python",
   "name": "python",
   "nbconvert_exporter": "python",
   "pygments_lexer": "ipython3",
   "version": "3.12.3"
  }
 },
 "nbformat": 4,
 "nbformat_minor": 5
}
